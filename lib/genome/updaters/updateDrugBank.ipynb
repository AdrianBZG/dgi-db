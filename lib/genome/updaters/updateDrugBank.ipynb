{
 "cells": [
  {
   "cell_type": "markdown",
   "metadata": {},
   "source": [
    "Run imports\n",
    "==="
   ]
  },
  {
   "cell_type": "code",
   "execution_count": 1,
   "metadata": {
    "collapsed": false
   },
   "outputs": [],
   "source": [
    "import wget\n",
    "import zipfile\n",
    "import os\n",
    "from subprocess import call, check_output\n",
    "import subprocess\n",
    "from shutil import move\n",
    "import gzip\n",
    "import xml.etree.ElementTree as ET\n",
    "from collections import Counter\n",
    "import operator\n",
    "import csv\n",
    "import re\n",
    "import datetime\n",
    "from urllib.request import urlopen\n",
    "from bs4 import BeautifulSoup"
   ]
  },
  {
   "cell_type": "markdown",
   "metadata": {},
   "source": [
    "Pull files from web\n",
    "==="
   ]
  },
  {
   "cell_type": "code",
   "execution_count": 2,
   "metadata": {
    "collapsed": true
   },
   "outputs": [],
   "source": [
    "filename = wget.download(\"http://www.drugbank.ca/system/downloads/current/drugbank.xml.zip\")"
   ]
  },
  {
   "cell_type": "code",
   "execution_count": 1,
   "metadata": {
    "collapsed": false
   },
   "outputs": [
    {
     "ename": "NameError",
     "evalue": "name 'zipfile' is not defined",
     "output_type": "error",
     "traceback": [
      "\u001b[0;31m---------------------------------------------------------------------------\u001b[0m",
      "\u001b[0;31mNameError\u001b[0m                                 Traceback (most recent call last)",
      "\u001b[0;32m<ipython-input-1-792c3e0d7c68>\u001b[0m in \u001b[0;36m<module>\u001b[0;34m()\u001b[0m\n\u001b[0;32m----> 1\u001b[0;31m \u001b[0mzfile\u001b[0m \u001b[0;34m=\u001b[0m \u001b[0mzipfile\u001b[0m\u001b[0;34m.\u001b[0m\u001b[0mZipFile\u001b[0m\u001b[0;34m(\u001b[0m\u001b[0mfilename\u001b[0m\u001b[0;34m)\u001b[0m\u001b[0;34m\u001b[0m\u001b[0m\n\u001b[0m\u001b[1;32m      2\u001b[0m \u001b[0mzfile\u001b[0m\u001b[0;34m.\u001b[0m\u001b[0mextract\u001b[0m\u001b[0;34m(\u001b[0m\u001b[0;34m'drugbank.xml'\u001b[0m\u001b[0;34m,\u001b[0m \u001b[0;34m'data/new.drugbank.xml'\u001b[0m\u001b[0;34m)\u001b[0m\u001b[0;34m\u001b[0m\u001b[0m\n",
      "\u001b[0;31mNameError\u001b[0m: name 'zipfile' is not defined"
     ]
    }
   ],
   "source": [
    "zfile = zipfile.ZipFile(filename)\n",
    "zfile.extract('drugbank.xml', 'data/new.drugbank.xml')\n",
    "os.remove(filename)"
   ]
  },
  {
   "cell_type": "code",
   "execution_count": 2,
   "metadata": {
    "collapsed": true
   },
   "outputs": [],
   "source": [
    "def extract(file):\n",
    "    with gzip.open(file, 'rb') as rf:\n",
    "        with open('data/' + file.rsplit('.',1)[0] + '.human', 'w') as wf:\n",
    "            for line in rf:\n",
    "                line_ascii = line.decode('utf-8')\n",
    "                species = line_ascii.split()[0]\n",
    "                if species == '9606':  # Grab human only\n",
    "                    wf.write(line_ascii)"
   ]
  },
  {
   "cell_type": "code",
   "execution_count": 10,
   "metadata": {
    "collapsed": true
   },
   "outputs": [],
   "source": [
    "g2a_filename = wget.download(\"ftp://ftp.ncbi.nlm.nih.gov/gene/DATA/gene2accession.gz\")\n",
    "gi_filename = wget.download(\"ftp://ftp.ncbi.nlm.nih.gov/gene/DATA/gene_info.gz\")\n",
    "extract(\"gene_info.gz\")\n",
    "extract(\"gene2accession.gz\")\n",
    "os.remove(g2a_filename)\n",
    "os.remove(gi_filename)"
   ]
  },
  {
   "cell_type": "markdown",
   "metadata": {},
   "source": [
    "Process DrugBank XML\n",
    "===\n",
    "\n",
    "Check Database Version\n",
    "---"
   ]
  },
  {
   "cell_type": "code",
   "execution_count": 3,
   "metadata": {
    "collapsed": false
   },
   "outputs": [],
   "source": [
    "html = urlopen('http://www.drugbank.ca/downloads')\n",
    "bsObj = BeautifulSoup(html.read(), \"html.parser\")"
   ]
  },
  {
   "cell_type": "code",
   "execution_count": 4,
   "metadata": {
    "collapsed": false
   },
   "outputs": [],
   "source": [
    "r = re.compile(r'Version ([\\d\\.]+)')\n",
    "match = r.search(bsObj.h1.text)\n",
    "if match:\n",
    "    version = match.group(1)\n",
    "else:\n",
    "    raise ValueError('Did not load version.') "
   ]
  },
  {
   "cell_type": "markdown",
   "metadata": {},
   "source": [
    "Load gene annotation resources\n",
    "---"
   ]
  },
  {
   "cell_type": "code",
   "execution_count": 5,
   "metadata": {
    "collapsed": false
   },
   "outputs": [],
   "source": [
    "symbol_to_info = dict()\n",
    "hgnc_id_to_info = dict()\n",
    "entrez_to_info = dict()\n",
    "sources = set()\n",
    "with open('data/gene_info.human') as f:\n",
    "    c = csv.reader(f, delimiter='\\t')\n",
    "    for line in c:\n",
    "        if line[0] != '9606':\n",
    "            continue\n",
    "        gene_symbol = line[2]\n",
    "        entrez_id = line[1]\n",
    "        symbol_to_info[gene_symbol] = {'Entrez': entrez_id,\n",
    "                                       'Symbol': gene_symbol}\n",
    "        if line[5] == '-':\n",
    "            continue\n",
    "        synonyms = line[5].split('|')\n",
    "        for synonym in synonyms:\n",
    "            (source, accession) = synonym.split(':', 1)\n",
    "            symbol_to_info[gene_symbol][source] = accession\n",
    "            sources.add(source)\n",
    "        if 'HGNC' in symbol_to_info[gene_symbol]:\n",
    "            hgnc_id_to_info[symbol_to_info[gene_symbol]['HGNC']] = symbol_to_info[gene_symbol]\n",
    "        entrez_to_info[entrez_id] = symbol_to_info[gene_symbol]"
   ]
  },
  {
   "cell_type": "code",
   "execution_count": 6,
   "metadata": {
    "collapsed": false
   },
   "outputs": [],
   "source": [
    "uniprot_to_entrez = dict()\n",
    "r = re.compile(r'[OPQ][0-9][A-Z0-9]{3}[0-9]|[A-NR-Z][0-9]([A-Z][A-Z0-9]{2}[0-9]){1,2}')\n",
    "    # regex from: http://www.uniprot.org/help/accession_numbers\n",
    "with open('data/gene2accession.human') as f:\n",
    "    c = csv.reader(f, delimiter='\\t')\n",
    "    for line in c:\n",
    "        if line[0] != '9606':\n",
    "            continue\n",
    "        uniprot_id = line[5].split('.',1)[0]\n",
    "        if not r.match(uniprot_id):\n",
    "            continue\n",
    "        entrez_id = line[1]\n",
    "        uniprot_to_entrez[uniprot_id] = entrez_id"
   ]
  },
  {
   "cell_type": "markdown",
   "metadata": {},
   "source": [
    "Parse XML\n",
    "---"
   ]
  },
  {
   "cell_type": "code",
   "execution_count": 7,
   "metadata": {
    "collapsed": false
   },
   "outputs": [],
   "source": [
    "ns = {'entry': 'http://www.drugbank.ca'}\n",
    "\n",
    "def elements(x):\n",
    "    c = Counter()\n",
    "    for elem in x:\n",
    "        c[elem.tag[len(ns['entry'])+2:]] += 1\n",
    "    return c"
   ]
  },
  {
   "cell_type": "code",
   "execution_count": 8,
   "metadata": {
    "collapsed": false
   },
   "outputs": [],
   "source": [
    "tree = ET.parse('data/old.drugbank.xml')\n",
    "drugbank = tree.getroot()\n",
    "drugs = drugbank.findall('entry:drug', ns)"
   ]
  },
  {
   "cell_type": "code",
   "execution_count": 9,
   "metadata": {
    "collapsed": false
   },
   "outputs": [],
   "source": [
    "interactions = dict()\n",
    "drug_info = dict()\n",
    "uniprot_fail = uniprot_success = 0\n",
    "hgnc_fail = hgnc_success = 0\n",
    "no_info = info = no_ensembl = 0\n",
    "total = 0\n",
    "for drug in drugs:\n",
    "    drug_id = drug.find('entry:drugbank-id', ns).text\n",
    "    drug_name = drug.find('entry:name', ns).text\n",
    "    \n",
    "    synonyms = drug.find('entry:synonyms', ns)\n",
    "    drug_synonyms = set()\n",
    "    for synonym in synonyms:\n",
    "        language = synonym.get('language')\n",
    "        if language == '' or language == 'English':\n",
    "            drug_synonyms.add(synonym.text)\n",
    "    drug_cas_number = drug.find('entry:cas-number',ns).text\n",
    "    drug_brands = set()\n",
    "    for product in drug.find('entry:products', ns):\n",
    "        drug_brands.add(product.find('entry:name', ns).text)\n",
    "    for int_brand in drug.find('entry:international-brands', ns):\n",
    "        drug_brands.add(int_brand.find('entry:name', ns).text)\n",
    "    drug_type = drug.get('type')\n",
    "    drug_groups = set()\n",
    "    for group in drug.find('entry:groups', ns):\n",
    "        drug_groups.add(group.text)\n",
    "    drug_categories = set()\n",
    "    for category in drug.find('entry:categories', ns):\n",
    "        drug_categories.add(category.find('entry:category', ns).text)\n",
    "    targets = drug.find('entry:targets', ns)\n",
    "    if len(targets) == 0:\n",
    "        continue\n",
    "    drug_info[drug_id] = (drug_name, tuple(sorted(drug_synonyms)), drug_cas_number, \n",
    "                          tuple(sorted(drug_brands)), drug_type, \n",
    "                          tuple(sorted(drug_groups)), tuple(sorted(drug_categories)))\n",
    "    for target in targets:\n",
    "        organism = target.find('entry:organism', ns).text\n",
    "        if organism != 'Human':\n",
    "            continue\n",
    "        gene_id = target.find('entry:id',ns).text\n",
    "        known_action = target.find('entry:known-action', ns).text\n",
    "        target_actions = set()\n",
    "        for action in target.find('entry:actions', ns):\n",
    "            target_actions.add(action.text)\n",
    "        gene_symbol = hgnc_gene_acc = uniprot_id = entrez_id = ensembl_id = None\n",
    "        polypeptide = target.find('entry:polypeptide',ns)\n",
    "        synonyms = None\n",
    "        if polypeptide is not None:\n",
    "            gene_symbol = polypeptide.find('entry:gene-name', ns).text\n",
    "            for identifier in polypeptide.find('entry:external-identifiers',ns):\n",
    "                if identifier.find('entry:resource',ns).text == 'HUGO Gene Nomenclature Committee (HGNC)':\n",
    "                    hgnc_gene_acc = identifier.find('entry:identifier',ns).text\n",
    "                    # Some identifiers are incorrectly labeled by DrugBank\n",
    "                    r = re.compile(r'^\\d+$')\n",
    "                    if hgnc_gene_acc.startswith('GNC:'):\n",
    "                        hgnc_gene_acc = 'H' + hgnc_gene_acc\n",
    "                    elif r.match(hgnc_gene_acc):\n",
    "                        hgnc_gene_acc = 'HGNC:' + hgnc_gene_acc\n",
    "                    try:\n",
    "                        synonyms = hgnc_id_to_info[hgnc_gene_acc]\n",
    "                    except:\n",
    "                        hgnc_fail += 1\n",
    "                    else:\n",
    "                        entrez_id = synonyms['Entrez']\n",
    "                        try:\n",
    "                            ensembl_id = synonyms['Ensembl']\n",
    "                        except KeyError:\n",
    "                            no_ensembl += 1\n",
    "                        hgnc_success += 1\n",
    "                elif identifier.find('entry:resource',ns).text == 'UniProtKB':\n",
    "                    uniprot_id = identifier.find('entry:identifier',ns).text\n",
    "                    if not synonyms:\n",
    "                        try:\n",
    "                            entrez_id = uniprot_to_entrez[uniprot_id]\n",
    "                            synonyms = entrez_to_info[entrez_id]\n",
    "                        except KeyError:\n",
    "                            uniprot_fail += 1\n",
    "                        else:\n",
    "                            uniprot_success += 1\n",
    "            if not synonyms:\n",
    "                try:\n",
    "                    synonyms = symbol_to_info[gene_symbol]\n",
    "                except KeyError:\n",
    "                    no_info += 1\n",
    "                else:\n",
    "                    entrez_id = synonyms['Entrez']\n",
    "                    ensembl_id = synonyms['Ensembl']\n",
    "                    info += 1\n",
    "        interaction_tuple = (gene_id, known_action, tuple(sorted(target_actions)), \n",
    "                             gene_symbol, uniprot_id, entrez_id, ensembl_id)\n",
    "        total += 1\n",
    "        try:\n",
    "            interactions[drug_id].append(interaction_tuple)\n",
    "        except KeyError:\n",
    "            interactions[drug_id] = [interaction_tuple,]"
   ]
  },
  {
   "cell_type": "markdown",
   "metadata": {
    "collapsed": false
   },
   "source": [
    "Write interactions to tsv\n",
    "---"
   ]
  },
  {
   "cell_type": "code",
   "execution_count": 140,
   "metadata": {
    "collapsed": false
   },
   "outputs": [],
   "source": [
    "i = 0\n",
    "no_ensembl = no_entrez = total = 0\n",
    "header = ('count','drug_id','drug_name','drug_synonyms','drug_cas_number','drug_brands',\n",
    "          'drug_type','drug_groups','drug_categories','gene_id','known_action','target_actions',\n",
    "          'gene_symbol','uniprot_id','entrez_id','ensembl_id')\n",
    "with open('data/DrugBankInteractions.tsv', 'w') as f:\n",
    "    writer = csv.writer(f, delimiter='\\t')\n",
    "    writer.writerow(header)\n",
    "    for drug in sorted(interactions):\n",
    "        for interaction in interactions[drug]:\n",
    "            i += 1\n",
    "            data = (i,drug) + drug_info[drug] + interaction\n",
    "            out = list()\n",
    "            for datum in data:\n",
    "                if isinstance(datum, tuple):\n",
    "                    datum = ','.join(datum)\n",
    "                datum = str(datum).replace(\"\\t\",'')\n",
    "                if not datum:\n",
    "                    datum = 'N/A'\n",
    "                out.append(datum)\n",
    "                # Some small number of rows contain tabs within text.\n",
    "            if out[14] == 'N/A':\n",
    "                no_entrez += 1\n",
    "            if out[15] == 'N/A':\n",
    "                no_ensembl += 1\n",
    "            writer.writerow(out)\n",
    "            "
   ]
  },
  {
   "cell_type": "code",
   "execution_count": 11,
   "metadata": {
    "collapsed": false
   },
   "outputs": [
    {
     "ename": "NameError",
     "evalue": "name 'no_entrez' is not defined",
     "output_type": "error",
     "traceback": [
      "\u001b[0;31m---------------------------------------------------------------------------\u001b[0m",
      "\u001b[0;31mNameError\u001b[0m                                 Traceback (most recent call last)",
      "\u001b[0;32m<ipython-input-11-0fe0f82b3850>\u001b[0m in \u001b[0;36m<module>\u001b[0;34m()\u001b[0m\n\u001b[1;32m      1\u001b[0m \u001b[0;31m# Unknown entrez ID for interaction\u001b[0m\u001b[0;34m\u001b[0m\u001b[0;34m\u001b[0m\u001b[0m\n\u001b[0;32m----> 2\u001b[0;31m \u001b[0mno_entrez\u001b[0m \u001b[0;34m/\u001b[0m \u001b[0mi\u001b[0m\u001b[0;34m\u001b[0m\u001b[0m\n\u001b[0m",
      "\u001b[0;31mNameError\u001b[0m: name 'no_entrez' is not defined"
     ]
    }
   ],
   "source": [
    "# Unknown entrez ID for interaction\n",
    "no_entrez / i"
   ]
  },
  {
   "cell_type": "code",
   "execution_count": 106,
   "metadata": {
    "collapsed": false
   },
   "outputs": [
    {
     "data": {
      "text/plain": [
       "0.13082099596231495"
      ]
     },
     "execution_count": 106,
     "metadata": {},
     "output_type": "execute_result"
    }
   ],
   "source": [
    "# Unknown ensembl ID for interaction\n",
    "no_ensembl / i"
   ]
  },
  {
   "cell_type": "markdown",
   "metadata": {},
   "source": [
    "Update DGIdb `version` File\n",
    "==="
   ]
  },
  {
   "cell_type": "code",
   "execution_count": 143,
   "metadata": {
    "collapsed": true
   },
   "outputs": [],
   "source": [
    "today = datetime.date.today().strftime(\"%d-%B-%Y\")\n",
    "with open('data/version', 'w') as f:\n",
    "    f.write(\"DrugBank\\t{0}, {1}\".format(version, today))"
   ]
  }
 ],
 "metadata": {
  "kernelspec": {
   "display_name": "Python 3",
   "language": "python",
   "name": "python3"
  },
  "language_info": {
   "codemirror_mode": {
    "name": "ipython",
    "version": 3
   },
   "file_extension": ".py",
   "mimetype": "text/x-python",
   "name": "python",
   "nbconvert_exporter": "python",
   "pygments_lexer": "ipython3",
   "version": "3.4.3"
  }
 },
 "nbformat": 4,
 "nbformat_minor": 0
}
